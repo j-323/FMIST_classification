{
 "cells": [
  {
   "cell_type": "code",
   "execution_count": 1,
   "metadata": {},
   "outputs": [],
   "source": [
    "# импорт необходимых библиотек\n",
    "import torch\n",
    "import torch.nn as nn\n",
    "import torch.optim as optim\n",
    "import torchvision.transforms as transforms\n",
    "import torchvision.models as models\n",
    "from torch.utils.data import Dataset, DataLoader\n",
    "from PIL import Image\n",
    "import pandas as pd\n",
    "import numpy as np\n",
    "from sklearn.metrics import accuracy_score"
   ]
  },
  {
   "cell_type": "code",
   "execution_count": 2,
   "metadata": {},
   "outputs": [],
   "source": [
    "import warnings\n",
    "warnings.filterwarnings(\"ignore\")"
   ]
  },
  {
   "cell_type": "code",
   "execution_count": 4,
   "metadata": {},
   "outputs": [],
   "source": [
    "# изпользование gpu\n",
    "device = torch.device(\"cuda\" if torch.cuda.is_available() else \"cpu\")"
   ]
  },
  {
   "cell_type": "code",
   "execution_count": 3,
   "metadata": {},
   "outputs": [],
   "source": [
    "# загрузка данных\n",
    "class CustomFashionMNISTDataset(Dataset):\n",
    "    def __init__(self, csv_file, transform=None):\n",
    "        self.data = pd.read_csv(csv_file)\n",
    "        self.transform = transform\n",
    "\n",
    "    def __len__(self):\n",
    "        return len(self.data)\n",
    "\n",
    "    def __getitem__(self, idx):\n",
    "        img = self.data.iloc[idx, 1:].values.astype(np.uint8).reshape(28, 28)\n",
    "        label = int(self.data.iloc[idx, 0])\n",
    "        img = Image.fromarray(img).convert('RGB')  # преобразование в RGB\n",
    "        if self.transform:\n",
    "            img = self.transform(img)\n",
    "        return img, label"
   ]
  },
  {
   "cell_type": "code",
   "execution_count": 4,
   "metadata": {},
   "outputs": [],
   "source": [
    "# преобразование данных в тензоры\n",
    "transform = transforms.Compose([\n",
    "    transforms.ToTensor(),\n",
    "    transforms.Normalize((0.5,), (0.5,))\n",
    "])\n",
    "\n",
    "# пути к файлам\n",
    "train_csv_path = 'fashion-mnist_train.csv'\n",
    "test_csv_path = 'fashion-mnist_test.csv'"
   ]
  },
  {
   "cell_type": "code",
   "execution_count": 5,
   "metadata": {},
   "outputs": [],
   "source": [
    "# разделение на выборки\n",
    "train_dataset = CustomFashionMNISTDataset(csv_file=train_csv_path, transform=transform)\n",
    "train_loader = DataLoader(train_dataset, batch_size=64, shuffle=True)\n",
    "\n",
    "test_dataset = CustomFashionMNISTDataset(csv_file=test_csv_path, transform=transform)\n",
    "test_loader = DataLoader(test_dataset, batch_size=64, shuffle=False)"
   ]
  },
  {
   "cell_type": "code",
   "execution_count": 5,
   "metadata": {},
   "outputs": [],
   "source": [
    "# использование существующий предобученной модели resnet101 для улучшения результатов\n",
    "model = models.resnet101(pretrained=True)\n",
    "\n",
    "# замена выходного слоя\n",
    "num_ftrs = model.fc.in_features\n",
    "model.fc = nn.Linear(num_ftrs, 10)  # 10 классов в FashionMNIST\n",
    "\n",
    "# перенос вычеслиний на GPU\n",
    "model = model.to(device)"
   ]
  },
  {
   "cell_type": "code",
   "execution_count": 7,
   "metadata": {},
   "outputs": [],
   "source": [
    "# оптимизация модели\n",
    "criterion = nn.CrossEntropyLoss()\n",
    "optimizer = optim.Adam(model.parameters(), lr=0.001)"
   ]
  },
  {
   "cell_type": "code",
   "execution_count": 8,
   "metadata": {},
   "outputs": [],
   "source": [
    "# процесс обчения модели\n",
    "def train_model(model, criterion, optimizer, num_epochs=5):\n",
    "    for epoch in range(num_epochs):\n",
    "        model.train()\n",
    "        running_loss = 0.0\n",
    "        for i, data in enumerate(train_loader, 0):\n",
    "            inputs, labels = data[0].to(device), data[1].to(device)\n",
    "            optimizer.zero_grad()\n",
    "            outputs = model(inputs)\n",
    "            loss = criterion(outputs, labels)\n",
    "            loss.backward()\n",
    "            optimizer.step()\n",
    "            running_loss += loss.item()\n",
    "            if i % 100 == 99:\n",
    "                print('[%d, %5d] loss: %.3f' % (epoch + 1, i + 1, running_loss / 100))\n",
    "                running_loss = 0.0"
   ]
  },
  {
   "cell_type": "code",
   "execution_count": 9,
   "metadata": {},
   "outputs": [],
   "source": [
    "# процесс оценки модели\n",
    "def evaluate_model(model, test_loader):\n",
    "    model.eval()\n",
    "    true_labels = []\n",
    "    predicted_labels = []\n",
    "    with torch.no_grad():\n",
    "        for data in test_loader:\n",
    "            images, labels = data[0].to(device), data[1].to(device)\n",
    "            outputs = model(images)\n",
    "            _, predicted = torch.max(outputs.data, 1)\n",
    "            true_labels.extend(labels.cpu().numpy())\n",
    "            predicted_labels.extend(predicted.cpu().numpy())\n",
    "    \n",
    "    accuracy = accuracy_score(true_labels, predicted_labels)\n",
    "    print('Accuracy of the network on the test images: %.2f %%' % (accuracy * 100))\n",
    "\n",
    "    return predicted_labels"
   ]
  },
  {
   "cell_type": "code",
   "execution_count": 10,
   "metadata": {},
   "outputs": [
    {
     "name": "stdout",
     "output_type": "stream",
     "text": [
      "[1,   100] loss: 0.705\n",
      "[1,   200] loss: 0.458\n",
      "[1,   300] loss: 0.393\n",
      "[1,   400] loss: 0.342\n",
      "[1,   500] loss: 0.409\n",
      "[1,   600] loss: 0.574\n",
      "[1,   700] loss: 0.421\n",
      "[1,   800] loss: 0.393\n",
      "[1,   900] loss: 0.342\n",
      "[2,   100] loss: 0.331\n",
      "[2,   200] loss: 0.455\n",
      "[2,   300] loss: 0.323\n",
      "[2,   400] loss: 0.310\n",
      "[2,   500] loss: 0.302\n",
      "[2,   600] loss: 0.286\n",
      "[2,   700] loss: 0.309\n",
      "[2,   800] loss: 0.355\n",
      "[2,   900] loss: 0.282\n",
      "[3,   100] loss: 0.239\n",
      "[3,   200] loss: 0.251\n",
      "[3,   300] loss: 0.253\n",
      "[3,   400] loss: 0.274\n",
      "[3,   500] loss: 0.271\n",
      "[3,   600] loss: 0.351\n",
      "[3,   700] loss: 0.291\n",
      "[3,   800] loss: 0.299\n",
      "[3,   900] loss: 0.249\n",
      "[4,   100] loss: 0.222\n",
      "[4,   200] loss: 0.238\n",
      "[4,   300] loss: 0.253\n",
      "[4,   400] loss: 0.254\n",
      "[4,   500] loss: 0.240\n",
      "[4,   600] loss: 0.242\n",
      "[4,   700] loss: 0.226\n",
      "[4,   800] loss: 0.234\n",
      "[4,   900] loss: 0.242\n",
      "[5,   100] loss: 0.211\n",
      "[5,   200] loss: 0.220\n",
      "[5,   300] loss: 0.206\n",
      "[5,   400] loss: 0.216\n",
      "[5,   500] loss: 0.230\n",
      "[5,   600] loss: 0.219\n",
      "[5,   700] loss: 0.215\n",
      "[5,   800] loss: 0.217\n",
      "[5,   900] loss: 0.489\n",
      "Accuracy of the network on the test images: 86.14 %\n"
     ]
    }
   ],
   "source": [
    "# вычисление\n",
    "train_model(model, criterion, optimizer, num_epochs=5)\n",
    "predicted_labels = evaluate_model(model, test_loader)"
   ]
  },
  {
   "cell_type": "code",
   "execution_count": 11,
   "metadata": {},
   "outputs": [],
   "source": [
    "# сохранение предсказанных значений в файл\n",
    "ids = list(range(len(predicted_labels)))\n",
    "submission_df = pd.DataFrame({'Id': ids, 'Category': predicted_labels})\n",
    "submission_df.to_csv('submission.csv', index=False)"
   ]
  }
 ],
 "metadata": {
  "kernelspec": {
   "display_name": "Python 3",
   "language": "python",
   "name": "python3"
  },
  "language_info": {
   "codemirror_mode": {
    "name": "ipython",
    "version": 3
   },
   "file_extension": ".py",
   "mimetype": "text/x-python",
   "name": "python",
   "nbconvert_exporter": "python",
   "pygments_lexer": "ipython3",
   "version": "3.11.5"
  }
 },
 "nbformat": 4,
 "nbformat_minor": 2
}
